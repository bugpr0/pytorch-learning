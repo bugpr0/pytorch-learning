{
  "cells": [
    {
      "cell_type": "code",
      "execution_count": null,
      "metadata": {
        "id": "uV0UqsDWtjcY"
      },
      "outputs": [],
      "source": [
        "# For tips on running notebooks in Google Colab, see\n",
        "# https://pytorch.org/tutorials/beginner/colab\n",
        "%matplotlib inline"
      ]
    },
    {
      "cell_type": "markdown",
      "metadata": {
        "id": "mEk7VZNLtjcc"
      },
      "source": [
        "[Learn the Basics](intro.html) \\|\\| **Quickstart** \\|\\|\n",
        "[Tensors](tensorqs_tutorial.html) \\|\\| [Datasets &\n",
        "DataLoaders](data_tutorial.html) \\|\\|\n",
        "[Transforms](transforms_tutorial.html) \\|\\| [Build\n",
        "Model](buildmodel_tutorial.html) \\|\\|\n",
        "[Autograd](autogradqs_tutorial.html) \\|\\|\n",
        "[Optimization](optimization_tutorial.html) \\|\\| [Save & Load\n",
        "Model](saveloadrun_tutorial.html)\n",
        "\n",
        "Quickstart\n",
        "==========\n",
        "\n",
        "This section runs through the API for common tasks in machine learning.\n",
        "Refer to the links in each section to dive deeper.\n",
        "\n",
        "Working with data\n",
        "-----------------\n",
        "\n",
        "PyTorch has two [primitives to work with\n",
        "data](https://pytorch.org/docs/stable/data.html):\n",
        "`torch.utils.data.DataLoader` and `torch.utils.data.Dataset`. `Dataset`\n",
        "stores the samples and their corresponding labels, and `DataLoader`\n",
        "wraps an iterable around the `Dataset`.\n"
      ]
    },
    {
      "cell_type": "code",
      "execution_count": 2,
      "metadata": {
        "id": "2CLgAs8Ytjcf"
      },
      "outputs": [],
      "source": [
        "import torch\n",
        "from torch import nn\n",
        "from torch.utils.data import DataLoader\n",
        "from torchvision import datasets\n",
        "from torchvision.transforms import ToTensor"
      ]
    },
    {
      "cell_type": "markdown",
      "metadata": {
        "id": "jk7Wc532tjcg"
      },
      "source": [
        "PyTorch offers domain-specific libraries such as\n",
        "[TorchText](https://pytorch.org/text/stable/index.html),\n",
        "[TorchVision](https://pytorch.org/vision/stable/index.html), and\n",
        "[TorchAudio](https://pytorch.org/audio/stable/index.html), all of which\n",
        "include datasets. For this tutorial, we will be using a TorchVision\n",
        "dataset.\n",
        "\n",
        "The `torchvision.datasets` module contains `Dataset` objects for many\n",
        "real-world vision data like CIFAR, COCO ([full list\n",
        "here](https://pytorch.org/vision/stable/datasets.html)). In this\n",
        "tutorial, we use the FashionMNIST dataset. Every TorchVision `Dataset`\n",
        "includes two arguments: `transform` and `target_transform` to modify the\n",
        "samples and labels respectively.\n"
      ]
    },
    {
      "cell_type": "code",
      "execution_count": 3,
      "metadata": {
        "id": "cl7oh3sytjcg",
        "outputId": "00e75037-4037-4ea3-d136-43cdaa27c18f",
        "colab": {
          "base_uri": "https://localhost:8080/"
        }
      },
      "outputs": [
        {
          "output_type": "stream",
          "name": "stdout",
          "text": [
            "Downloading http://fashion-mnist.s3-website.eu-central-1.amazonaws.com/train-images-idx3-ubyte.gz\n",
            "Downloading http://fashion-mnist.s3-website.eu-central-1.amazonaws.com/train-images-idx3-ubyte.gz to data/FashionMNIST/raw/train-images-idx3-ubyte.gz\n"
          ]
        },
        {
          "output_type": "stream",
          "name": "stderr",
          "text": [
            "100%|██████████| 26.4M/26.4M [00:01<00:00, 19.3MB/s]\n"
          ]
        },
        {
          "output_type": "stream",
          "name": "stdout",
          "text": [
            "Extracting data/FashionMNIST/raw/train-images-idx3-ubyte.gz to data/FashionMNIST/raw\n",
            "\n",
            "Downloading http://fashion-mnist.s3-website.eu-central-1.amazonaws.com/train-labels-idx1-ubyte.gz\n",
            "Downloading http://fashion-mnist.s3-website.eu-central-1.amazonaws.com/train-labels-idx1-ubyte.gz to data/FashionMNIST/raw/train-labels-idx1-ubyte.gz\n"
          ]
        },
        {
          "output_type": "stream",
          "name": "stderr",
          "text": [
            "100%|██████████| 29.5k/29.5k [00:00<00:00, 359kB/s]\n"
          ]
        },
        {
          "output_type": "stream",
          "name": "stdout",
          "text": [
            "Extracting data/FashionMNIST/raw/train-labels-idx1-ubyte.gz to data/FashionMNIST/raw\n",
            "\n",
            "Downloading http://fashion-mnist.s3-website.eu-central-1.amazonaws.com/t10k-images-idx3-ubyte.gz\n",
            "Downloading http://fashion-mnist.s3-website.eu-central-1.amazonaws.com/t10k-images-idx3-ubyte.gz to data/FashionMNIST/raw/t10k-images-idx3-ubyte.gz\n"
          ]
        },
        {
          "output_type": "stream",
          "name": "stderr",
          "text": [
            "100%|██████████| 4.42M/4.42M [00:04<00:00, 1.06MB/s]\n"
          ]
        },
        {
          "output_type": "stream",
          "name": "stdout",
          "text": [
            "Extracting data/FashionMNIST/raw/t10k-images-idx3-ubyte.gz to data/FashionMNIST/raw\n",
            "\n",
            "Downloading http://fashion-mnist.s3-website.eu-central-1.amazonaws.com/t10k-labels-idx1-ubyte.gz\n",
            "Downloading http://fashion-mnist.s3-website.eu-central-1.amazonaws.com/t10k-labels-idx1-ubyte.gz to data/FashionMNIST/raw/t10k-labels-idx1-ubyte.gz\n"
          ]
        },
        {
          "output_type": "stream",
          "name": "stderr",
          "text": [
            "100%|██████████| 5.15k/5.15k [00:00<00:00, 8.46MB/s]"
          ]
        },
        {
          "output_type": "stream",
          "name": "stdout",
          "text": [
            "Extracting data/FashionMNIST/raw/t10k-labels-idx1-ubyte.gz to data/FashionMNIST/raw\n",
            "\n"
          ]
        },
        {
          "output_type": "stream",
          "name": "stderr",
          "text": [
            "\n"
          ]
        }
      ],
      "source": [
        "# Download training data from open datasets.\n",
        "training_data = datasets.FashionMNIST(\n",
        "    root=\"data\",\n",
        "    train=True,\n",
        "    download=True,\n",
        "    transform=ToTensor(),\n",
        ")\n",
        "\n",
        "# Download test data from open datasets.\n",
        "test_data = datasets.FashionMNIST(\n",
        "    root=\"data\",\n",
        "    train=False,\n",
        "    download=True,\n",
        "    transform=ToTensor(),\n",
        ")"
      ]
    },
    {
      "cell_type": "markdown",
      "metadata": {
        "id": "OlwDURnVtjch"
      },
      "source": [
        "We pass the `Dataset` as an argument to `DataLoader`. This wraps an\n",
        "iterable over our dataset, and supports automatic batching, sampling,\n",
        "shuffling and multiprocess data loading. Here we define a batch size of\n",
        "64, i.e. each element in the dataloader iterable will return a batch of\n",
        "64 features and labels.\n"
      ]
    },
    {
      "cell_type": "code",
      "execution_count": 4,
      "metadata": {
        "id": "Vl4cjeWGtjch",
        "outputId": "62e2f660-4ac9-4127-f89e-d48f095f1261",
        "colab": {
          "base_uri": "https://localhost:8080/"
        }
      },
      "outputs": [
        {
          "output_type": "stream",
          "name": "stdout",
          "text": [
            "Shape of X [N, C, H, W]: torch.Size([64, 1, 28, 28])\n",
            "Shape of y: torch.Size([64]) torch.int64\n"
          ]
        }
      ],
      "source": [
        "batch_size = 64\n",
        "\n",
        "# Create data loaders.\n",
        "train_dataloader = DataLoader(training_data, batch_size=batch_size)\n",
        "test_dataloader = DataLoader(test_data, batch_size=batch_size)\n",
        "\n",
        "for X, y in test_dataloader:\n",
        "    print(f\"Shape of X [N, C, H, W]: {X.shape}\")\n",
        "    print(f\"Shape of y: {y.shape} {y.dtype}\")\n",
        "    break"
      ]
    },
    {
      "cell_type": "markdown",
      "metadata": {
        "id": "1eLrl26Atjch"
      },
      "source": [
        "Read more about [loading data in PyTorch](data_tutorial.html).\n"
      ]
    },
    {
      "cell_type": "code",
      "source": [
        "x = torch.rand(1,28,28)\n",
        "x\n"
      ],
      "metadata": {
        "id": "0OEfGEEo3OHQ",
        "outputId": "a0257487-4540-4ab9-9f5b-add80a8b0eb4",
        "colab": {
          "base_uri": "https://localhost:8080/"
        }
      },
      "execution_count": 24,
      "outputs": [
        {
          "output_type": "execute_result",
          "data": {
            "text/plain": [
              "tensor([[[9.1651e-01, 6.4786e-01, 6.2144e-01, 8.7254e-01, 4.2078e-01,\n",
              "          6.1860e-01, 4.4884e-01, 2.2693e-01, 3.5569e-01, 2.4995e-01,\n",
              "          8.5999e-01, 5.5343e-01, 9.0266e-01, 9.3952e-01, 4.8122e-02,\n",
              "          4.8651e-01, 1.8825e-01, 7.2586e-01, 9.5379e-02, 1.2754e-01,\n",
              "          9.8855e-01, 4.9568e-01, 8.8409e-01, 4.3937e-01, 1.4769e-01,\n",
              "          4.2425e-01, 6.4793e-03, 4.7855e-01],\n",
              "         [3.1699e-01, 4.6950e-01, 4.1457e-01, 7.0303e-01, 8.2336e-01,\n",
              "          8.8276e-01, 9.2173e-01, 5.5540e-01, 4.3415e-01, 4.2810e-01,\n",
              "          7.7513e-01, 9.5032e-01, 2.4362e-01, 2.7349e-01, 4.3916e-02,\n",
              "          4.6756e-01, 8.2637e-01, 1.7058e-01, 2.0927e-01, 2.1895e-01,\n",
              "          4.7713e-01, 3.7249e-01, 1.9798e-01, 9.9987e-01, 7.8276e-01,\n",
              "          5.1696e-01, 3.4149e-01, 3.0758e-01],\n",
              "         [2.4626e-01, 3.8847e-01, 9.3438e-01, 6.2517e-02, 6.4623e-01,\n",
              "          2.1895e-01, 2.4974e-01, 9.6963e-01, 3.3931e-01, 3.9723e-01,\n",
              "          7.8153e-01, 1.2306e-01, 6.8522e-01, 1.5250e-01, 8.0459e-01,\n",
              "          2.4341e-01, 5.2118e-01, 3.1241e-01, 3.6519e-01, 6.2047e-01,\n",
              "          4.6081e-01, 7.9664e-01, 3.3002e-01, 5.1451e-02, 8.1566e-01,\n",
              "          9.8098e-01, 6.1123e-01, 3.8717e-01],\n",
              "         [3.2145e-01, 1.6331e-01, 9.2228e-01, 7.3983e-01, 4.4468e-01,\n",
              "          1.3614e-01, 4.2732e-01, 9.8254e-01, 4.0213e-03, 6.1747e-01,\n",
              "          3.0912e-01, 3.5167e-01, 8.4929e-01, 3.8074e-01, 8.3321e-01,\n",
              "          7.6170e-01, 6.7602e-01, 6.6120e-01, 2.8463e-01, 2.1487e-01,\n",
              "          4.6117e-01, 8.1858e-01, 1.6911e-01, 8.7094e-01, 6.5469e-01,\n",
              "          8.5600e-01, 2.1048e-01, 7.2285e-01],\n",
              "         [1.6267e-01, 4.4335e-01, 2.9643e-01, 1.7461e-01, 9.6145e-02,\n",
              "          9.1340e-02, 2.0731e-01, 8.8225e-01, 6.6193e-02, 1.2022e-01,\n",
              "          2.1063e-01, 5.5175e-02, 5.7476e-01, 2.7974e-01, 3.6566e-01,\n",
              "          4.2381e-02, 4.2172e-01, 6.2385e-01, 4.7278e-01, 9.3225e-01,\n",
              "          6.3218e-02, 5.3333e-02, 8.2000e-01, 3.2483e-01, 1.2391e-01,\n",
              "          6.5718e-01, 5.0580e-01, 6.6723e-01],\n",
              "         [6.0103e-01, 7.8494e-01, 4.5105e-01, 4.4767e-01, 3.3546e-01,\n",
              "          3.3199e-01, 4.7439e-02, 2.9186e-02, 5.8206e-01, 3.5969e-01,\n",
              "          3.3345e-01, 6.4370e-01, 9.0560e-01, 7.2278e-01, 1.8472e-01,\n",
              "          1.7552e-01, 1.3776e-01, 2.5919e-01, 6.3804e-01, 4.6022e-02,\n",
              "          8.1440e-01, 4.3210e-01, 4.5604e-01, 6.7402e-01, 7.1142e-01,\n",
              "          3.7819e-01, 9.7019e-01, 2.4990e-03],\n",
              "         [8.2920e-01, 1.1153e-01, 3.0818e-01, 7.2725e-01, 8.7880e-01,\n",
              "          7.0130e-01, 9.6784e-02, 1.1988e-01, 8.4946e-01, 1.4759e-01,\n",
              "          8.4319e-01, 7.5268e-01, 9.0606e-01, 9.6855e-01, 3.4096e-01,\n",
              "          4.2339e-01, 3.4315e-01, 5.0490e-01, 3.7572e-01, 9.8573e-01,\n",
              "          7.7945e-01, 9.7195e-01, 9.6520e-02, 2.5496e-01, 7.8108e-01,\n",
              "          1.0998e-01, 4.8815e-01, 4.0075e-01],\n",
              "         [8.2238e-01, 5.8885e-01, 2.6994e-01, 7.7991e-01, 1.4416e-01,\n",
              "          6.4516e-01, 3.6731e-01, 9.7854e-01, 6.2742e-01, 7.4175e-01,\n",
              "          5.5465e-01, 4.4111e-01, 8.5711e-01, 9.8105e-01, 7.7582e-02,\n",
              "          4.9414e-01, 7.2069e-01, 2.3176e-02, 6.7455e-01, 4.3196e-01,\n",
              "          1.2271e-01, 1.5573e-01, 6.0360e-02, 6.7812e-03, 1.3984e-01,\n",
              "          8.2296e-01, 1.3799e-01, 8.0605e-01],\n",
              "         [9.4747e-01, 1.2458e-01, 9.3448e-01, 7.7552e-01, 1.4235e-01,\n",
              "          3.5002e-01, 7.8123e-01, 1.7701e-01, 3.2610e-01, 6.5392e-01,\n",
              "          1.4193e-01, 1.9949e-01, 6.0903e-01, 2.8763e-01, 1.9826e-01,\n",
              "          1.4956e-01, 5.2430e-01, 1.1984e-03, 4.0861e-02, 8.8558e-02,\n",
              "          3.9526e-01, 3.0133e-01, 8.0085e-01, 4.5915e-01, 3.4001e-01,\n",
              "          6.3129e-02, 6.5921e-01, 2.1360e-01],\n",
              "         [9.4186e-01, 5.9882e-01, 4.0686e-01, 1.5100e-01, 3.5828e-01,\n",
              "          8.5916e-01, 4.3322e-01, 6.2246e-01, 5.3392e-01, 1.6063e-02,\n",
              "          3.4556e-01, 3.9845e-01, 1.8208e-01, 8.3553e-01, 8.6395e-01,\n",
              "          6.3945e-01, 8.4578e-01, 5.5293e-01, 9.6533e-01, 1.8576e-01,\n",
              "          5.2128e-01, 3.3457e-01, 9.0834e-01, 5.5148e-01, 9.4819e-01,\n",
              "          7.7906e-01, 7.4265e-01, 7.6281e-01],\n",
              "         [2.3819e-01, 7.6923e-01, 9.1602e-03, 1.4936e-01, 1.5521e-01,\n",
              "          2.0509e-02, 7.8179e-01, 5.0837e-01, 9.7214e-01, 3.0618e-01,\n",
              "          2.3933e-01, 4.4855e-01, 1.7589e-01, 4.1135e-01, 1.5282e-01,\n",
              "          1.5019e-01, 5.9757e-01, 1.0205e-01, 4.0368e-01, 8.9758e-01,\n",
              "          4.3100e-01, 9.8430e-01, 3.7280e-01, 4.6565e-01, 8.8657e-02,\n",
              "          9.2699e-02, 6.0539e-01, 6.9697e-01],\n",
              "         [6.5536e-01, 7.6081e-01, 8.7850e-01, 1.4941e-01, 3.9063e-01,\n",
              "          6.0484e-01, 5.0137e-02, 2.3813e-01, 4.1929e-01, 6.5564e-01,\n",
              "          4.5479e-01, 9.3933e-01, 1.0071e-01, 1.3079e-01, 4.2233e-01,\n",
              "          5.5119e-01, 2.5392e-01, 2.7681e-01, 2.7040e-01, 6.1193e-01,\n",
              "          2.6047e-01, 5.6035e-01, 7.6466e-01, 6.6947e-01, 3.4775e-01,\n",
              "          6.3930e-01, 2.5430e-01, 7.4273e-01],\n",
              "         [5.0376e-01, 7.9414e-02, 4.3733e-01, 9.0620e-01, 3.9565e-01,\n",
              "          4.0169e-01, 2.6765e-02, 2.0468e-01, 1.4807e-01, 2.6286e-01,\n",
              "          2.8789e-01, 6.8240e-01, 3.0533e-01, 2.7901e-01, 1.9815e-01,\n",
              "          2.4135e-01, 8.1622e-01, 2.8765e-01, 4.5579e-01, 9.1940e-01,\n",
              "          7.6438e-01, 1.6489e-01, 7.1573e-01, 5.4384e-01, 8.7413e-01,\n",
              "          9.2116e-01, 3.6811e-01, 8.8092e-01],\n",
              "         [7.8210e-01, 8.7410e-01, 2.4657e-01, 8.6166e-01, 7.3352e-01,\n",
              "          3.7753e-01, 8.2402e-01, 6.2167e-01, 8.1192e-01, 8.2584e-01,\n",
              "          8.0213e-01, 3.2717e-01, 4.6516e-01, 3.3178e-01, 1.2487e-01,\n",
              "          2.8756e-01, 5.1497e-01, 5.2628e-02, 3.7740e-01, 5.0003e-01,\n",
              "          4.5189e-01, 5.0226e-01, 5.6067e-01, 9.9646e-01, 7.1972e-01,\n",
              "          2.3140e-01, 1.5474e-01, 9.0344e-01],\n",
              "         [7.2659e-01, 4.3155e-01, 4.1123e-01, 3.4502e-02, 4.9515e-01,\n",
              "          6.7044e-01, 8.3915e-01, 8.8880e-01, 8.1080e-01, 5.9974e-01,\n",
              "          8.2347e-01, 9.0488e-01, 2.0283e-01, 3.4386e-01, 2.2878e-01,\n",
              "          8.7202e-01, 7.8278e-01, 1.7276e-01, 3.7447e-01, 8.1772e-01,\n",
              "          6.8941e-01, 5.0233e-01, 4.7326e-01, 6.3565e-01, 1.5742e-01,\n",
              "          5.0099e-01, 3.2746e-01, 9.1966e-01],\n",
              "         [9.8840e-01, 6.4248e-01, 7.7832e-01, 6.9548e-01, 2.9086e-01,\n",
              "          3.1620e-02, 4.5918e-01, 6.1532e-02, 2.3644e-01, 6.5106e-01,\n",
              "          8.3482e-01, 5.1078e-02, 9.3976e-02, 8.5730e-01, 9.6127e-01,\n",
              "          5.7970e-01, 8.9530e-01, 3.8630e-01, 9.5779e-01, 4.2075e-01,\n",
              "          9.9711e-01, 4.1900e-02, 9.3888e-01, 1.0776e-01, 2.6972e-01,\n",
              "          8.5205e-01, 2.7008e-01, 9.8237e-01],\n",
              "         [5.9769e-01, 1.4363e-01, 6.4374e-01, 5.7078e-01, 9.8941e-01,\n",
              "          7.9932e-02, 3.5013e-01, 6.9346e-01, 3.2144e-01, 8.8038e-01,\n",
              "          4.2301e-01, 1.0157e-01, 8.7489e-01, 2.8933e-01, 9.5446e-01,\n",
              "          5.4495e-01, 6.1786e-01, 7.2511e-01, 7.1293e-01, 3.5195e-02,\n",
              "          2.6167e-01, 2.0612e-01, 6.5198e-01, 4.4660e-01, 6.5612e-01,\n",
              "          6.2380e-02, 8.9438e-01, 3.7722e-02],\n",
              "         [3.1221e-02, 3.4395e-01, 6.8945e-03, 4.7050e-02, 3.2898e-01,\n",
              "          2.3255e-01, 4.3608e-01, 2.3911e-02, 8.3659e-01, 4.8190e-01,\n",
              "          3.7971e-01, 5.9037e-01, 6.8597e-01, 5.3544e-01, 5.3616e-01,\n",
              "          2.2731e-01, 7.3460e-01, 6.7220e-01, 9.4111e-01, 8.5530e-01,\n",
              "          7.2934e-02, 4.5407e-01, 8.7676e-01, 1.8241e-01, 4.1936e-02,\n",
              "          5.5391e-01, 3.0419e-01, 4.7625e-01],\n",
              "         [9.5242e-01, 5.7063e-01, 4.4788e-01, 8.2457e-01, 4.5112e-01,\n",
              "          2.3830e-01, 4.2540e-01, 9.8783e-01, 5.3670e-01, 2.1657e-01,\n",
              "          9.2808e-01, 5.1836e-01, 1.8730e-01, 2.6223e-01, 4.4498e-01,\n",
              "          4.2742e-01, 1.1369e-01, 6.1495e-01, 8.0683e-01, 5.9197e-01,\n",
              "          4.2125e-01, 6.2408e-01, 4.2908e-01, 2.9046e-01, 7.9052e-01,\n",
              "          4.4417e-01, 2.3749e-02, 4.5079e-01],\n",
              "         [7.4283e-01, 4.1466e-01, 3.5888e-02, 7.7191e-01, 3.6707e-01,\n",
              "          5.9944e-04, 9.9376e-01, 9.7999e-01, 8.5659e-01, 4.3967e-01,\n",
              "          5.4497e-01, 5.8957e-01, 7.9515e-01, 1.0174e-01, 3.0727e-01,\n",
              "          1.1052e-01, 8.2917e-01, 1.2345e-01, 9.6880e-01, 7.8053e-01,\n",
              "          3.9438e-01, 5.2006e-01, 6.4477e-02, 5.1969e-01, 9.6464e-01,\n",
              "          9.8113e-01, 5.4756e-01, 1.4073e-01],\n",
              "         [8.0502e-01, 2.9767e-01, 4.6765e-01, 3.8791e-01, 8.9167e-01,\n",
              "          4.7372e-01, 8.1988e-01, 4.1857e-01, 1.2722e-01, 7.6893e-01,\n",
              "          9.4683e-01, 9.4187e-01, 2.7600e-01, 2.7008e-01, 7.2813e-01,\n",
              "          9.8015e-01, 5.4776e-01, 1.3367e-01, 6.3143e-01, 2.6425e-01,\n",
              "          4.2866e-01, 8.9996e-01, 3.4165e-01, 9.2775e-03, 8.5884e-01,\n",
              "          8.6659e-01, 7.6745e-01, 2.2564e-01],\n",
              "         [4.6496e-01, 5.2132e-01, 5.3274e-01, 4.4963e-01, 2.1860e-01,\n",
              "          6.3261e-01, 7.7806e-01, 9.7293e-03, 5.1937e-01, 8.4895e-01,\n",
              "          2.4382e-01, 4.4171e-01, 8.4741e-02, 6.9181e-01, 6.7309e-01,\n",
              "          6.8067e-01, 7.1687e-02, 3.7353e-01, 9.2371e-02, 6.4176e-01,\n",
              "          2.8057e-01, 6.4558e-01, 2.0658e-01, 1.6459e-01, 4.5297e-01,\n",
              "          6.3818e-01, 6.7799e-01, 6.3265e-01],\n",
              "         [5.9138e-02, 4.1501e-01, 3.0167e-01, 4.6789e-01, 6.6956e-01,\n",
              "          2.5258e-01, 5.6849e-01, 5.9274e-01, 2.6453e-01, 6.2910e-02,\n",
              "          4.6066e-01, 8.4341e-01, 2.2548e-01, 6.0792e-02, 2.3235e-02,\n",
              "          8.7016e-01, 9.7396e-01, 4.1248e-01, 7.4190e-01, 5.9113e-01,\n",
              "          5.8531e-01, 3.3795e-01, 1.4225e-01, 2.6596e-01, 2.6970e-01,\n",
              "          1.4012e-01, 2.8420e-01, 1.9510e-01],\n",
              "         [1.0327e-01, 2.8708e-01, 1.0625e-01, 7.5802e-01, 4.5506e-01,\n",
              "          4.0582e-01, 6.7053e-01, 2.2409e-01, 6.9632e-01, 2.6421e-01,\n",
              "          9.1349e-01, 7.7614e-01, 1.4016e-01, 7.3207e-01, 3.5992e-01,\n",
              "          5.5544e-01, 8.8492e-01, 3.1675e-01, 3.9689e-01, 2.9462e-01,\n",
              "          3.7647e-01, 6.0727e-01, 7.4360e-01, 2.1118e-01, 6.6710e-01,\n",
              "          1.1310e-01, 1.2291e-01, 9.0776e-01],\n",
              "         [4.8159e-01, 4.0822e-01, 8.2922e-01, 6.1518e-01, 4.8386e-01,\n",
              "          3.1429e-01, 2.9499e-01, 1.5654e-01, 7.5287e-01, 2.2162e-01,\n",
              "          9.7201e-01, 6.1631e-01, 9.6966e-01, 7.4730e-01, 3.4128e-01,\n",
              "          7.3695e-01, 1.2369e-01, 3.6137e-01, 6.1913e-01, 2.6679e-01,\n",
              "          4.7053e-01, 7.4914e-01, 9.7387e-01, 7.0797e-01, 4.2245e-02,\n",
              "          7.0574e-01, 7.4775e-02, 7.0261e-01],\n",
              "         [8.0562e-01, 9.4993e-01, 3.0941e-01, 9.6531e-02, 9.4428e-01,\n",
              "          5.4338e-01, 5.3432e-01, 8.8336e-01, 4.0799e-01, 9.0306e-01,\n",
              "          7.1743e-01, 8.8945e-01, 4.2002e-01, 2.9429e-01, 2.1788e-01,\n",
              "          4.0926e-01, 3.0403e-01, 6.2466e-01, 4.4197e-01, 7.2719e-01,\n",
              "          9.9772e-01, 1.8334e-01, 5.4026e-01, 5.3533e-01, 9.3332e-01,\n",
              "          8.1632e-01, 6.6552e-01, 3.2719e-01],\n",
              "         [1.6474e-01, 6.1667e-01, 3.6514e-01, 5.9645e-01, 6.5053e-01,\n",
              "          1.5951e-01, 5.9017e-01, 6.6078e-01, 2.2024e-01, 5.1989e-01,\n",
              "          5.6009e-03, 6.5095e-01, 5.7685e-01, 2.6653e-01, 2.1846e-01,\n",
              "          7.4454e-01, 1.2486e-01, 7.2748e-01, 7.7856e-01, 9.9261e-01,\n",
              "          2.1036e-01, 8.3846e-01, 3.7668e-01, 8.4110e-01, 1.9892e-01,\n",
              "          7.2073e-01, 9.3656e-01, 5.6668e-01],\n",
              "         [1.9590e-01, 9.6065e-01, 2.7142e-01, 5.0015e-01, 2.3143e-01,\n",
              "          4.2224e-01, 2.6901e-01, 5.6986e-01, 2.8643e-01, 3.2489e-01,\n",
              "          2.5267e-01, 3.1152e-01, 2.1384e-01, 1.5909e-01, 3.3087e-01,\n",
              "          6.5138e-01, 1.2967e-01, 5.0145e-01, 2.3214e-01, 9.0456e-01,\n",
              "          7.7537e-02, 7.6806e-01, 4.9938e-01, 1.9871e-02, 8.3608e-01,\n",
              "          2.2282e-01, 8.0126e-01, 4.5163e-01]]])"
            ]
          },
          "metadata": {},
          "execution_count": 24
        }
      ]
    },
    {
      "cell_type": "markdown",
      "metadata": {
        "id": "ADEvuR2Gtjci"
      },
      "source": [
        "------------------------------------------------------------------------\n"
      ]
    },
    {
      "cell_type": "markdown",
      "metadata": {
        "id": "ICTmW8cFtjci"
      },
      "source": [
        "Creating Models\n",
        "===============\n",
        "\n",
        "To define a neural network in PyTorch, we create a class that inherits\n",
        "from\n",
        "[nn.Module](https://pytorch.org/docs/stable/generated/torch.nn.Module.html).\n",
        "We define the layers of the network in the `__init__` function and\n",
        "specify how data will pass through the network in the `forward`\n",
        "function. To accelerate operations in the neural network, we move it to\n",
        "the GPU or MPS if available.\n"
      ]
    },
    {
      "cell_type": "code",
      "execution_count": 25,
      "metadata": {
        "id": "d1h_-pKMtjci",
        "outputId": "b9c1a58c-9a51-4b71-f6ca-c059165eb44e",
        "colab": {
          "base_uri": "https://localhost:8080/"
        }
      },
      "outputs": [
        {
          "output_type": "stream",
          "name": "stdout",
          "text": [
            "Using cpu device\n",
            "NeuralNetwork(\n",
            "  (flatten): Flatten(start_dim=1, end_dim=-1)\n",
            "  (linear_relu_stack): Sequential(\n",
            "    (0): Linear(in_features=784, out_features=512, bias=True)\n",
            "    (1): ReLU()\n",
            "    (2): Linear(in_features=512, out_features=512, bias=True)\n",
            "    (3): ReLU()\n",
            "    (4): Linear(in_features=512, out_features=10, bias=True)\n",
            "  )\n",
            ")\n"
          ]
        }
      ],
      "source": [
        "# Get cpu, gpu or mps device for training.\n",
        "device = (\n",
        "    \"cuda\"\n",
        "    if torch.cuda.is_available()\n",
        "    else \"mps\"\n",
        "    if torch.backends.mps.is_available()\n",
        "    else \"cpu\"\n",
        ")\n",
        "print(f\"Using {device} device\")\n",
        "\n",
        "# Define model\n",
        "class NeuralNetwork(nn.Module):\n",
        "    def __init__(self):\n",
        "        super().__init__()\n",
        "        self.flatten = nn.Flatten()\n",
        "        self.linear_relu_stack = nn.Sequential(\n",
        "            nn.Linear(28*28, 512),\n",
        "            nn.ReLU(),\n",
        "            nn.Linear(512, 512),\n",
        "            nn.ReLU(),\n",
        "            nn.Linear(512, 10)\n",
        "        )\n",
        "\n",
        "    def forward(self, x):\n",
        "        x = self.flatten(x)\n",
        "        logits = self.linear_relu_stack(x)\n",
        "        return logits\n",
        "\n",
        "model = NeuralNetwork().to(device)\n",
        "print(model)"
      ]
    },
    {
      "cell_type": "markdown",
      "metadata": {
        "id": "OIsAiZlDtjcj"
      },
      "source": [
        "Read more about [building neural networks in\n",
        "PyTorch](buildmodel_tutorial.html).\n"
      ]
    },
    {
      "cell_type": "markdown",
      "metadata": {
        "id": "UQfTAq5jtjcj"
      },
      "source": [
        "------------------------------------------------------------------------\n"
      ]
    },
    {
      "cell_type": "markdown",
      "metadata": {
        "id": "KrLI3Rudtjcj"
      },
      "source": [
        "Optimizing the Model Parameters\n",
        "===============================\n",
        "\n",
        "To train a model, we need a [loss\n",
        "function](https://pytorch.org/docs/stable/nn.html#loss-functions) and an\n",
        "[optimizer](https://pytorch.org/docs/stable/optim.html).\n"
      ]
    },
    {
      "cell_type": "code",
      "execution_count": 29,
      "metadata": {
        "id": "L4YchxIitjcj"
      },
      "outputs": [],
      "source": [
        "loss_fn = nn.CrossEntropyLoss()\n",
        "optimizer = torch.optim.SGD(model.parameters(), lr=1e-3)"
      ]
    },
    {
      "cell_type": "markdown",
      "metadata": {
        "id": "_RQhJ4Qctjcj"
      },
      "source": [
        "In a single training loop, the model makes predictions on the training\n",
        "dataset (fed to it in batches), and backpropagates the prediction error\n",
        "to adjust the model\\'s parameters.\n"
      ]
    },
    {
      "cell_type": "code",
      "execution_count": 30,
      "metadata": {
        "id": "K0USEwGhtjck"
      },
      "outputs": [],
      "source": [
        "def train(dataloader, model, loss_fn, optimizer):\n",
        "    size = len(dataloader.dataset)\n",
        "    model.train()\n",
        "    for batch, (X, y) in enumerate(dataloader):\n",
        "        X, y = X.to(device), y.to(device)\n",
        "\n",
        "        # Compute prediction error\n",
        "        pred = model(X)\n",
        "        loss = loss_fn(pred, y)\n",
        "\n",
        "        # Backpropagation\n",
        "        loss.backward()\n",
        "        optimizer.step()\n",
        "        optimizer.zero_grad()\n",
        "\n",
        "        if batch % 100 == 0:\n",
        "            loss, current = loss.item(), (batch + 1) * len(X)\n",
        "            print(f\"loss: {loss:>7f}  [{current:>5d}/{size:>5d}]\")"
      ]
    },
    {
      "cell_type": "markdown",
      "metadata": {
        "id": "ZmIYAyrftjck"
      },
      "source": [
        "We also check the model\\'s performance against the test dataset to\n",
        "ensure it is learning.\n"
      ]
    },
    {
      "cell_type": "markdown",
      "metadata": {
        "id": "xwFWaghNtjck"
      },
      "source": [
        "The training process is conducted over several iterations (*epochs*).\n",
        "During each epoch, the model learns parameters to make better\n",
        "predictions. We print the model\\'s accuracy and loss at each epoch;\n",
        "we\\'d like to see the accuracy increase and the loss decrease with every\n",
        "epoch.\n"
      ]
    },
    {
      "cell_type": "code",
      "execution_count": 31,
      "metadata": {
        "id": "gsRAOCRrtjck"
      },
      "outputs": [],
      "source": [
        "def test(dataloader, model, loss_fn):\n",
        "    size = len(dataloader.dataset)\n",
        "    num_batches = len(dataloader)\n",
        "    model.eval()\n",
        "    test_loss, correct = 0, 0\n",
        "    with torch.no_grad():\n",
        "        for X, y in dataloader:\n",
        "            X, y = X.to(device), y.to(device)\n",
        "            pred = model(X)\n",
        "            test_loss += loss_fn(pred, y).item()\n",
        "            correct += (pred.argmax(1) == y).type(torch.float).sum().item()\n",
        "    test_loss /= num_batches\n",
        "    correct /= size\n",
        "    print(f\"Test Error: \\n Accuracy: {(100*correct):>0.1f}%, Avg loss: {test_loss:>8f} \\n\")"
      ]
    },
    {
      "cell_type": "code",
      "execution_count": 32,
      "metadata": {
        "id": "AgjHydkDtjck",
        "outputId": "2f1cd13c-08e7-44c8-b4b1-35c8957f19ca",
        "colab": {
          "base_uri": "https://localhost:8080/"
        }
      },
      "outputs": [
        {
          "output_type": "stream",
          "name": "stdout",
          "text": [
            "Epoch 1\n",
            "-------------------------------\n",
            "loss: 2.299450  [   64/60000]\n",
            "loss: 2.288875  [ 6464/60000]\n",
            "loss: 2.265693  [12864/60000]\n",
            "loss: 2.264412  [19264/60000]\n",
            "loss: 2.235061  [25664/60000]\n",
            "loss: 2.211821  [32064/60000]\n",
            "loss: 2.221766  [38464/60000]\n",
            "loss: 2.185642  [44864/60000]\n",
            "loss: 2.181516  [51264/60000]\n",
            "loss: 2.165180  [57664/60000]\n",
            "Test Error: \n",
            " Accuracy: 44.0%, Avg loss: 2.149556 \n",
            "\n",
            "Epoch 2\n",
            "-------------------------------\n",
            "loss: 2.155621  [   64/60000]\n",
            "loss: 2.151951  [ 6464/60000]\n",
            "loss: 2.090297  [12864/60000]\n",
            "loss: 2.116640  [19264/60000]\n",
            "loss: 2.052350  [25664/60000]\n",
            "loss: 1.994802  [32064/60000]\n",
            "loss: 2.029592  [38464/60000]\n",
            "loss: 1.944048  [44864/60000]\n",
            "loss: 1.952237  [51264/60000]\n",
            "loss: 1.908399  [57664/60000]\n",
            "Test Error: \n",
            " Accuracy: 55.2%, Avg loss: 1.886406 \n",
            "\n",
            "Epoch 3\n",
            "-------------------------------\n",
            "loss: 1.908047  [   64/60000]\n",
            "loss: 1.890655  [ 6464/60000]\n",
            "loss: 1.765535  [12864/60000]\n",
            "loss: 1.829364  [19264/60000]\n",
            "loss: 1.698040  [25664/60000]\n",
            "loss: 1.652723  [32064/60000]\n",
            "loss: 1.688782  [38464/60000]\n",
            "loss: 1.577041  [44864/60000]\n",
            "loss: 1.612971  [51264/60000]\n",
            "loss: 1.529777  [57664/60000]\n",
            "Test Error: \n",
            " Accuracy: 59.9%, Avg loss: 1.523963 \n",
            "\n",
            "Epoch 4\n",
            "-------------------------------\n",
            "loss: 1.581041  [   64/60000]\n",
            "loss: 1.556549  [ 6464/60000]\n",
            "loss: 1.395218  [12864/60000]\n",
            "loss: 1.493029  [19264/60000]\n",
            "loss: 1.348432  [25664/60000]\n",
            "loss: 1.348018  [32064/60000]\n",
            "loss: 1.371497  [38464/60000]\n",
            "loss: 1.283978  [44864/60000]\n",
            "loss: 1.329858  [51264/60000]\n",
            "loss: 1.238734  [57664/60000]\n",
            "Test Error: \n",
            " Accuracy: 62.5%, Avg loss: 1.252897 \n",
            "\n",
            "Epoch 5\n",
            "-------------------------------\n",
            "loss: 1.324546  [   64/60000]\n",
            "loss: 1.313502  [ 6464/60000]\n",
            "loss: 1.138998  [12864/60000]\n",
            "loss: 1.265357  [19264/60000]\n",
            "loss: 1.122730  [25664/60000]\n",
            "loss: 1.151007  [32064/60000]\n",
            "loss: 1.174562  [38464/60000]\n",
            "loss: 1.103889  [44864/60000]\n",
            "loss: 1.152558  [51264/60000]\n",
            "loss: 1.069079  [57664/60000]\n",
            "Test Error: \n",
            " Accuracy: 64.3%, Avg loss: 1.085070 \n",
            "\n",
            "Done!\n"
          ]
        }
      ],
      "source": [
        "epochs = 5\n",
        "for t in range(epochs):\n",
        "    print(f\"Epoch {t+1}\\n-------------------------------\")\n",
        "    train(train_dataloader, model, loss_fn, optimizer)\n",
        "    test(test_dataloader, model, loss_fn)\n",
        "print(\"Done!\")"
      ]
    },
    {
      "cell_type": "markdown",
      "metadata": {
        "id": "yOaAqQgZtjck"
      },
      "source": [
        "Read more about [Training your model](optimization_tutorial.html).\n"
      ]
    },
    {
      "cell_type": "markdown",
      "metadata": {
        "id": "7PepDvl_tjcl"
      },
      "source": [
        "------------------------------------------------------------------------\n"
      ]
    },
    {
      "cell_type": "markdown",
      "metadata": {
        "id": "Cf0Kb6uftjcl"
      },
      "source": [
        "Saving Models\n",
        "=============\n",
        "\n",
        "A common way to save a model is to serialize the internal state\n",
        "dictionary (containing the model parameters).\n"
      ]
    },
    {
      "cell_type": "code",
      "execution_count": 33,
      "metadata": {
        "id": "WiuBsgYQtjcl",
        "outputId": "ae438519-beae-4bfd-f50a-7d8df5601dfa",
        "colab": {
          "base_uri": "https://localhost:8080/"
        }
      },
      "outputs": [
        {
          "output_type": "stream",
          "name": "stdout",
          "text": [
            "Saved PyTorch Model State to model.pth\n"
          ]
        }
      ],
      "source": [
        "torch.save(model.state_dict(), \"model.pth\")\n",
        "print(\"Saved PyTorch Model State to model.pth\")"
      ]
    },
    {
      "cell_type": "markdown",
      "metadata": {
        "id": "NBqCKejhtjcl"
      },
      "source": [
        "Loading Models\n",
        "==============\n",
        "\n",
        "The process for loading a model includes re-creating the model structure\n",
        "and loading the state dictionary into it.\n"
      ]
    },
    {
      "cell_type": "code",
      "execution_count": 34,
      "metadata": {
        "id": "i1Gdd2Yatjcl",
        "outputId": "14167419-19de-4eac-8dd4-cf08f9bc73ab",
        "colab": {
          "base_uri": "https://localhost:8080/"
        }
      },
      "outputs": [
        {
          "output_type": "execute_result",
          "data": {
            "text/plain": [
              "<All keys matched successfully>"
            ]
          },
          "metadata": {},
          "execution_count": 34
        }
      ],
      "source": [
        "model = NeuralNetwork().to(device)\n",
        "model.load_state_dict(torch.load(\"model.pth\", weights_only=True))"
      ]
    },
    {
      "cell_type": "markdown",
      "metadata": {
        "id": "2RTjyQ_Mtjcl"
      },
      "source": [
        "This model can now be used to make predictions.\n"
      ]
    },
    {
      "cell_type": "code",
      "execution_count": 35,
      "metadata": {
        "id": "PkA7gXzntjcl",
        "outputId": "d20b8a3e-a853-416c-a8af-3b6193459fde",
        "colab": {
          "base_uri": "https://localhost:8080/"
        }
      },
      "outputs": [
        {
          "output_type": "stream",
          "name": "stdout",
          "text": [
            "Predicted: \"Ankle boot\", Actual: \"Ankle boot\"\n"
          ]
        }
      ],
      "source": [
        "classes = [\n",
        "    \"T-shirt/top\",\n",
        "    \"Trouser\",\n",
        "    \"Pullover\",\n",
        "    \"Dress\",\n",
        "    \"Coat\",\n",
        "    \"Sandal\",\n",
        "    \"Shirt\",\n",
        "    \"Sneaker\",\n",
        "    \"Bag\",\n",
        "    \"Ankle boot\",\n",
        "]\n",
        "\n",
        "model.eval()\n",
        "x, y = test_data[0][0], test_data[0][1]\n",
        "with torch.no_grad():\n",
        "    x = x.to(device)\n",
        "    pred = model(x)\n",
        "    predicted, actual = classes[pred[0].argmax(0)], classes[y]\n",
        "    print(f'Predicted: \"{predicted}\", Actual: \"{actual}\"')"
      ]
    },
    {
      "cell_type": "markdown",
      "metadata": {
        "id": "J2wSue8Btjcm"
      },
      "source": [
        "Read more about [Saving & Loading your\n",
        "model](saveloadrun_tutorial.html).\n"
      ]
    }
  ],
  "metadata": {
    "kernelspec": {
      "display_name": "Python 3",
      "language": "python",
      "name": "python3"
    },
    "language_info": {
      "codemirror_mode": {
        "name": "ipython",
        "version": 3
      },
      "file_extension": ".py",
      "mimetype": "text/x-python",
      "name": "python",
      "nbconvert_exporter": "python",
      "pygments_lexer": "ipython3",
      "version": "3.10.15"
    },
    "colab": {
      "provenance": [],
      "toc_visible": true
    }
  },
  "nbformat": 4,
  "nbformat_minor": 0
}